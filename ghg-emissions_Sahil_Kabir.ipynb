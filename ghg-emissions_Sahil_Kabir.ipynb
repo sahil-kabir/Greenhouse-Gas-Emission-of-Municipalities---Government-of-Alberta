{
 "cells": [
  {
   "cell_type": "code",
   "execution_count": 27,
   "id": "8883cb21-0ced-4b9a-a9cd-364184023557",
   "metadata": {},
   "outputs": [],
   "source": [
    "import matplotlib.pyplot as plt\n",
    "import pandas as pd\n",
    "import numpy as np\n",
    "import panel as pn\n",
    "\n",
    "import hvplot.pandas"
   ]
  },
  {
   "cell_type": "markdown",
   "id": "c433eac3-bd75-449b-9602-0927245b2747",
   "metadata": {},
   "source": [
    "# Initial Inspection of Data:"
   ]
  },
  {
   "cell_type": "code",
   "execution_count": 28,
   "id": "ce258ed4-7f7f-4acf-afd5-40f336fd175b",
   "metadata": {},
   "outputs": [
    {
     "name": "stdout",
     "output_type": "stream",
     "text": [
      "CSDUID\n",
      "int64\n",
      "[4801003 4801006 4802012 4802021 4802022 4803014 4804004 4804006 4804011\n",
      " 4805012 4805018 4805049 4806001 4806006 4806014 4806016 4806019 4806021\n",
      " 4806026 4806029 4806032 4806034 4806036 4807026 4807036 4807049 4808001\n",
      " 4808011 4808022 4808024 4808031 4808044 4809010 4809015 4810019 4810039\n",
      " 4811001 4811021 4811024 4811031 4811032 4811034 4811038 4811045 4811052\n",
      " 4811056 4811061 4811064 4811065 4812002 4812004 4812009 4813029 4813030\n",
      " 4813031 4813046 4814003 4814019 4814024 4815007 4815015 4816037 4817024\n",
      " 4817026 4817029 4817031 4817076 4817093 4817095 4817097 4818002 4818005\n",
      " 4818015 4818018 4819006 4819011 4819012 4819014 4819038 4819058 4819059\n",
      " 4819068 4819071]\n",
      "________________________\n",
      "CSD Name\n",
      "object\n",
      "['Cypress County' 'Medicine Hat' 'Lethbridge' 'Taber, M.D.' 'Taber'\n",
      " 'Pincher Creek' 'Special Area No. 2' 'Empress' 'Hanna' 'Wheatland County'\n",
      " 'Strathmore' 'Trochu' 'Foothills No. 31' 'High River' 'Rocky View County'\n",
      " 'Calgary' 'Cochrane' 'Airdrie' 'Crossfield' 'Carstairs' 'Didsbury' 'Olds'\n",
      " 'Sundre' 'Stettler' 'Forestburg' 'Wainwright No. 61' 'Red Deer County'\n",
      " 'Red Deer' 'Lacombe County' 'Eckville' 'Lacombe' 'Rimbey' 'Caroline'\n",
      " 'Rocky Mountain House' 'Ryley' 'Lloydminster (Part)'\n",
      " 'Wetaskiwin County No. 10' 'Thorsby' 'Warburg' 'Drayton Valley'\n",
      " 'Brazeau County' 'Parkland County' 'Seba Beach' 'Wabamun'\n",
      " 'Strathcona County' 'Fort Saskatchewan' 'Edmonton' 'Gibbons' 'Redwater'\n",
      " 'Cold Lake' 'Bonnyville No. 87' 'Bonnyville' 'Woodlands County'\n",
      " 'Whitecourt' 'Westlock' 'Boyle' 'Yellowhead County' 'Hinton' 'Edson'\n",
      " 'Crowsnest Pass' 'Bighorn No. 8' 'Wood Buffalo' 'Swan Hills'\n",
      " 'Northern Sunrise County' 'Slave Lake' 'Opportunity No. 17'\n",
      " 'Northern Lights County' 'High Level' 'Mackenzie County' 'Rainbow Lake'\n",
      " 'Fox Creek' 'Grande Cache' 'Greenview No. 16' 'Valleyview'\n",
      " 'Grande Prairie County No. 1' 'Wembley' 'Grande Prairie' 'Sexsmith'\n",
      " 'Peace River' 'Spirit River' 'Saddle Hills County' 'Fairview'\n",
      " 'Peace No. 135']\n",
      "________________________\n",
      "Year\n",
      "int64\n",
      "[2014 2013 2012 2011 2010 2009 2008 2007 2006 2005 2004]\n",
      "________________________\n",
      "Emission Type\n",
      "object\n",
      "['CO2' 'CO2 Equivalent' 'CH4' 'CH4 Equivalent' 'N2O' 'N2O Equivalent']\n",
      "________________________\n",
      "Indicator\n",
      "object\n",
      "['Greenhouse Gas Emissions' 'CO2 Eq. Emissions']\n",
      "________________________\n",
      "Value\n",
      "object\n",
      "[N/A]\n"
     ]
    }
   ],
   "source": [
    "df = pd.read_csv(\"ghg-emissions.csv\")\n",
    "x = 250\n",
    "\n",
    "for col in df.columns:\n",
    "    print(col)\n",
    "    print(df[col].dtype)\n",
    "    if len(df[col].unique()) < x:\n",
    "        print(df[col].unique())\n",
    "        print(\"________________________\")\n",
    "    else:\n",
    "        print(\"[N/A]\")"
   ]
  },
  {
   "cell_type": "code",
   "execution_count": 29,
   "id": "b67e06e9-b8f3-41ee-997d-2b7f7dae7ecc",
   "metadata": {},
   "outputs": [],
   "source": [
    "df[\"Value\"] = df[\"Value\"].str.replace(\",\", \"\")\n",
    "df[\"Value\"] = pd.to_numeric(df[\"Value\"])\n",
    "idf = df.interactive() "
   ]
  },
  {
   "cell_type": "raw",
   "id": "b5a60ce2-1d17-4a02-b520-58e9717769bd",
   "metadata": {},
   "source": [
    "# Widgets for visualizations:"
   ]
  },
  {
   "cell_type": "code",
   "execution_count": 30,
   "id": "6034569b-4759-4b39-8dd6-c3649652a104",
   "metadata": {},
   "outputs": [
    {
     "name": "stderr",
     "output_type": "stream",
     "text": [
      "WARNING:param.Municipalty: Setting non-parameter attribute search_strategy=includes using a mechanism intended only for parameters\n"
     ]
    }
   ],
   "source": [
    "mun_list = []\n",
    "for mun in df[\"CSD Name\"].unique():\n",
    "    if df.loc[df[\"CSD Name\"] == mun][\"Year\"].nunique() >= 3:\n",
    "        mun_list.append(mun)\n",
    "\n",
    "autocomplete = pn.widgets.AutocompleteInput(\n",
    "    name='Municipalty', options=mun_list,\n",
    "    case_sensitive=False, search_strategy='includes',\n",
    "    placeholder='CSD Name',\n",
    "    value = \"Red Deer County\")\n",
    "\n",
    "year_slider1 = pn.widgets.IntSlider(name = 'Year', start = 2004, end = 2014, step = 1, value = 2004)\n",
    "year_slider2 = pn.widgets.IntSlider(name = 'Year', start = 2004, end = 2014, step = 1, value = 2004)\n",
    "\n",
    "etype1 = pn.widgets.RadioButtonGroup(\n",
    "    name='Emission Type', \n",
    "    options= list(df[\"Emission Type\"].unique())\n",
    ")\n",
    "etype2 = pn.widgets.RadioButtonGroup(\n",
    "    name='Emission Type', \n",
    "    options= list(df[\"Emission Type\"].unique())\n",
    ")\n",
    "etype3 = pn.widgets.RadioButtonGroup(\n",
    "    name='Emission Type', \n",
    "    options= list(df[\"Emission Type\"].unique())\n",
    ")\n",
    "etype4 = pn.widgets.RadioButtonGroup(\n",
    "    name='Emission Type', \n",
    "    options= list(df[\"Emission Type\"].unique())\n",
    ")"
   ]
  },
  {
   "cell_type": "markdown",
   "id": "44c559f8-2d1b-4042-b322-0ff1f190b5ee",
   "metadata": {},
   "source": [
    "# Data Pipelines and Plots"
   ]
  },
  {
   "cell_type": "code",
   "execution_count": 31,
   "id": "3fb60741-2787-4c79-a96d-3c95f314b0dc",
   "metadata": {},
   "outputs": [],
   "source": [
    "plot_data = (\n",
    "    idf[(idf[\"Emission Type\"] == etype4) & (idf[\"CSD Name\"] == autocomplete)].groupby([\"CSD Name\", \"Year\"])[\"Value\"].mean().to_frame().reset_index().sort_values(by = \"Year\").reset_index(drop = True)\n",
    ")\n",
    "plot = plot_data.hvplot(x = \"Year\", by = \"CSD Name\", y = \"Value\", title = \"Emission Values Over Time\")\n",
    "hist_data = (\n",
    "    idf[(idf[\"Year\"] == year_slider1) & (idf[\"Emission Type\"] == etype1)]['Value']\n",
    ")\n",
    "\n",
    "hist = hist_data.hvplot.hist(title = \"Emission Values\")\n",
    "boxplot_data = (\n",
    "    idf[idf[\"Emission Type\"] == etype2][[\"Year\", \"Value\"]]\n",
    ")\n",
    "\n",
    "boxplot_data_lim = (\n",
    "    idf[(idf[\"Emission Type\"] == etype3) & \n",
    "        (idf[(idf[\"Emission Type\"] == etype3)][\"Value\"] <\n",
    "        (idf[(idf[\"Emission Type\"] == etype3)].groupby([\"Year\"])[\"Value\"].quantile(0.9).max())\n",
    "        )][[\"Year\", \"Value\"]]\n",
    ")\n",
    "\n",
    "boxplot = boxplot_data_lim.hvplot.box(by = \"Year\", \n",
    "                        title = \"GHG Emission Values over the Years (Zoomed in)\".format(etype3),\n",
    "                        invert = True)\n",
    "\n",
    "boxplot2 = boxplot_data.hvplot.box(by = \"Year\", \n",
    "                        title = \"GHG Emission Values over the Years\".format(etype2),\n",
    "                        invert = True)"
   ]
  },
  {
   "cell_type": "markdown",
   "id": "46a5f03a-a83d-4f7a-ab2c-b0e3b768b3a0",
   "metadata": {},
   "source": [
    "# Panel Dashboard"
   ]
  },
  {
   "cell_type": "code",
   "execution_count": 32,
   "id": "65651da9-695a-48e6-a08d-6287427bd711",
   "metadata": {},
   "outputs": [
    {
     "name": "stdout",
     "output_type": "stream",
     "text": [
      "Launching server at http://localhost:49894\n"
     ]
    },
    {
     "data": {
      "text/plain": [
       "<panel.io.server.Server at 0x145ceaf70>"
      ]
     },
     "execution_count": 32,
     "metadata": {},
     "output_type": "execute_result"
    }
   ],
   "source": [
    "mun_str = \"\"\n",
    "for mun in mun_list:\n",
    "    mun_str = mun_str + mun + \"\\n###\"\n",
    "\n",
    "template = pn.template.FastListTemplate(\n",
    "    title='Greenhouse Gas Emission of Municipalities - Government of Alberta', \n",
    "    sidebar = [pn.pane.Markdown(\"### Amount of CO2-equivalent emissions from facilities emitting over 10kt, \\\n",
    "    as required by Canada's Greenhouse Gas Reporting Program, by year and municipality or municipal district. \\\n",
    "    CO2 equivalent is a term for describing different green house gases (like methane, nitrous oxide, HFCs, etc.) in a common unit. \\\n",
    "    The CO2 equivalent would signify the amount of CO2 required to have a equivalent greenhouse effect.\"),\n",
    "              pn.pane.Markdown(\"## List of Municipalities with Data of Emissions over time:\\n###{}\".format(mun_str))], \n",
    "    main=[pn.Row(pn.Column(hist, margin = (0, 25), sizing_mode=\"stretch_height\"), \n",
    "                 pn.Column(plot, margin = (0, 25), sizing_mode=\"stretch_height\")), \n",
    "          pn.Row(pn.Column(boxplot, margin = (0, 25)),\n",
    "                 pn.Column(boxplot2, margin = (0, 25)), \n",
    "                 sizing_mode=\"stretch_both\")],\n",
    "    accent_base_color=\"#88d8b0\",\n",
    "    header_background=\"#88d8b0\",\n",
    ")\n",
    "\n",
    "template.show()"
   ]
  },
  {
   "cell_type": "code",
   "execution_count": null,
   "id": "28078737-54d0-4413-a53f-cd5eaf86bc1c",
   "metadata": {},
   "outputs": [],
   "source": []
  }
 ],
 "metadata": {
  "kernelspec": {
   "display_name": "Python 3 (ipykernel)",
   "language": "python",
   "name": "python3"
  },
  "language_info": {
   "codemirror_mode": {
    "name": "ipython",
    "version": 3
   },
   "file_extension": ".py",
   "mimetype": "text/x-python",
   "name": "python",
   "nbconvert_exporter": "python",
   "pygments_lexer": "ipython3",
   "version": "3.8.18"
  }
 },
 "nbformat": 4,
 "nbformat_minor": 5
}
